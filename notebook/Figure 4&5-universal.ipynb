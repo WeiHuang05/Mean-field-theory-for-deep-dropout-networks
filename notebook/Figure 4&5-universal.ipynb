{
 "cells": [
  {
   "cell_type": "markdown",
   "metadata": {},
   "source": [
    "# Figures 4&5\n",
    "\n",
    "Universal relationship between variance and mean of gradient metrics."
   ]
  },
  {
   "cell_type": "markdown",
   "metadata": {},
   "source": [
    "## Setup"
   ]
  },
  {
   "cell_type": "code",
   "execution_count": 8,
   "metadata": {},
   "outputs": [],
   "source": [
    "from __future__ import print_function\n",
    "import os, sys\n",
    "from tqdm import tqdm\n",
    "import matplotlib.pyplot as plt\n",
    "import matplotlib\n",
    "\n",
    "\n",
    "plt.rcParams['pdf.fonttype'] = 42\n",
    "plt.rcParams['text.usetex'] = True\n",
    "plt.rcParams['text.latex.unicode'] = True\n",
    "plt.rcParams['image.cmap'] = 'viridis'\n"
   ]
  },
  {
   "cell_type": "markdown",
   "metadata": {},
   "source": [
    "## mean and variance of gradient metrics on linear dropout netoworks (simulation)"
   ]
  },
  {
   "cell_type": "code",
   "execution_count": 3,
   "metadata": {},
   "outputs": [],
   "source": [
    "import csv\n",
    "import numpy as np\n",
    "\n",
    "loop = 100; numb = 20; nrho = 5\n",
    "\n",
    "li_sta1 = np.zeros((nrho,loop,numb)); li_sta2 = np.zeros((nrho,loop,numb)); li_sta3 = np.zeros((nrho,loop,numb))\n",
    "\n",
    "for rho in range(6,11):\n",
    "    with open('../data/univer/linear_n5_r%saa_st.csv' %str(rho), newline='') as csvfile:\n",
    "            spamreader = csv.reader(csvfile, delimiter=' '); j = 0\n",
    "            for row in spamreader:\n",
    "                a,b = divmod(j,numb); li_sta1[rho-6,a,b] = row[0]; j = j + 1 \n",
    "        \n",
    "    with open('../data/univer/linear_n5_r%sab_st.csv' %str(rho), newline='') as csvfile:\n",
    "            spamreader = csv.reader(csvfile, delimiter=' '); j = 0\n",
    "            for row in spamreader:\n",
    "                a,b = divmod(j,numb); li_sta2[rho-6,a,b] = row[0]; j = j + 1\n",
    "            \n",
    "    with open('../data/univer/linear_n5_r%sabs_st.csv' %str(rho), newline='') as csvfile:\n",
    "            spamreader = csv.reader(csvfile, delimiter=' '); j = 0\n",
    "            for row in spamreader:\n",
    "                a,b = divmod(j,numb); li_sta3[rho-6,a,b] = row[0]; j = j + 1      \n",
    "                                         \n",
    "x1 = np.zeros((nrho,numb)); y1 = np.zeros((nrho,numb))\n",
    "x2 = np.zeros((nrho,numb)); y2 = np.zeros((nrho,numb))\n",
    "x3 = np.zeros((nrho,numb)); y3 = np.zeros((nrho,numb))\n",
    "\n",
    "for rho in range(nrho):\n",
    "    for n in range(numb):\n",
    "        x1[rho,n] = np.mean(li_sta1[rho,:,n]); y1[rho,n] = np.var(li_sta1[rho,:,n])\n",
    "        x2[rho,n] = np.mean(li_sta2[rho,:,n]); y2[rho,n] = np.var(li_sta2[rho,:,n])\n",
    "        x3[rho,n] = np.mean(li_sta3[rho,:,n]); y3[rho,n] = np.var(li_sta3[rho,:,n])\n",
    "        \n",
    "x4 = np.zeros(40); y4 = np.zeros(40)        \n",
    "for n in range(40):  \n",
    "    n1 = n-10\n",
    "    x4[n] = 10**(-n1*2); y4[n] = 1e12*x4[n]**2.0"
   ]
  },
  {
   "cell_type": "markdown",
   "metadata": {},
   "source": [
    "## mean and variance of gradient metrics on ReLU dropout netoworks (simulation)"
   ]
  },
  {
   "cell_type": "code",
   "execution_count": 4,
   "metadata": {
    "scrolled": true
   },
   "outputs": [],
   "source": [
    "# relu\n",
    "loop = 100; numb = 21; nrho = 5\n",
    "\n",
    "re_sta1 = np.zeros((nrho,loop,numb)); re_sta2 = np.zeros((nrho,loop,numb)); re_sta3 = np.zeros((nrho,loop,numb))\n",
    "\n",
    "for rho in range(6,11):\n",
    "    with open('../data/univer/relu_n5_r%saa_st.csv' %str(rho), newline='') as csvfile:\n",
    "            spamreader = csv.reader(csvfile, delimiter=' '); j = 0\n",
    "            for row in spamreader:\n",
    "                a,b = divmod(j,numb); re_sta1[rho-6,a,b] = row[0]; j = j + 1 \n",
    "        \n",
    "    with open('../data/univer/relu_n5_r%sab_st.csv' %str(rho), newline='') as csvfile:\n",
    "            spamreader = csv.reader(csvfile, delimiter=' '); j = 0\n",
    "            for row in spamreader:\n",
    "                a,b = divmod(j,numb); re_sta2[rho-6,a,b] = row[0]; j = j + 1\n",
    "            \n",
    "    with open('../data/univer/relu_n5_r%sabs_st.csv' %str(rho), newline='') as csvfile:\n",
    "            spamreader = csv.reader(csvfile, delimiter=' '); j = 0\n",
    "            for row in spamreader:\n",
    "                a,b = divmod(j,numb); re_sta3[rho-6,a,b] = row[0]; j = j + 1      \n",
    "                                        \n",
    "re_x1 = np.zeros((nrho,numb)); re_y1 = np.zeros((nrho,numb))\n",
    "re_x2 = np.zeros((nrho,numb)); re_y2 = np.zeros((nrho,numb))\n",
    "re_x3 = np.zeros((nrho,numb)); re_y3 = np.zeros((nrho,numb))\n",
    "\n",
    "\n",
    "for rho in range(nrho):\n",
    "    for n in range(numb):\n",
    "        re_x1[rho,n] = np.mean(re_sta1[rho,:,n]); re_y1[rho,n] = np.var(re_sta1[rho,:,n])\n",
    "        re_x2[rho,n] = np.mean(re_sta2[rho,:,n]); re_y2[rho,n] = np.var(re_sta2[rho,:,n])\n",
    "        re_x3[rho,n] = np.mean(re_sta3[rho,:,n]); re_y3[rho,n] = np.var(re_sta3[rho,:,n])"
   ]
  },
  {
   "cell_type": "markdown",
   "metadata": {},
   "source": [
    "## mean and variance of gradient metrics on tanh dropout netoworks (simulation)"
   ]
  },
  {
   "cell_type": "code",
   "execution_count": 5,
   "metadata": {},
   "outputs": [],
   "source": [
    "# tanh\n",
    "loop = 100; numb = 21; nrho = 5\n",
    "\n",
    "ta_sta1 = np.zeros((nrho,loop,numb)); ta_sta2 = np.zeros((nrho,loop,numb)); ta_sta3 = np.zeros((nrho,loop,numb))\n",
    "\n",
    "for rho in range(6,11):\n",
    "    with open('../data/univer/tanh_n5_r%saa_st.csv' %str(rho), newline='') as csvfile:\n",
    "            spamreader = csv.reader(csvfile, delimiter=' '); j = 0\n",
    "            for row in spamreader:\n",
    "                a,b = divmod(j,numb); ta_sta1[rho-6,a,b] = row[0]; j = j + 1 \n",
    "        \n",
    "    with open('../data/univer/tanh_n5_r%sab_st.csv' %str(rho), newline='') as csvfile:\n",
    "            spamreader = csv.reader(csvfile, delimiter=' '); j = 0\n",
    "            for row in spamreader:\n",
    "                a,b = divmod(j,numb); ta_sta2[rho-6,a,b] = row[0]; j = j + 1\n",
    "            \n",
    "    with open('../data/univer/tanh_n5_r%sabs_st.csv' %str(rho), newline='') as csvfile:\n",
    "            spamreader = csv.reader(csvfile, delimiter=' '); j = 0\n",
    "            for row in spamreader:\n",
    "                a,b = divmod(j,numb); ta_sta3[rho-6,a,b] = row[0]; j = j + 1      \n",
    "                                        \n",
    "ta_x1 = np.zeros((nrho,numb)); ta_y1 = np.zeros((nrho,numb))\n",
    "ta_x2 = np.zeros((nrho,numb)); ta_y2 = np.zeros((nrho,numb))\n",
    "ta_x3 = np.zeros((nrho,numb)); ta_y3 = np.zeros((nrho,numb))\n",
    "\n",
    "\n",
    "for rho in range(nrho):\n",
    "    for n in range(numb):\n",
    "        ta_x1[rho,n] = np.mean(ta_sta1[rho,:,n]); ta_y1[rho,n] = np.var(ta_sta1[rho,:,n])\n",
    "        ta_x2[rho,n] = np.mean(ta_sta2[rho,:,n]); ta_y2[rho,n] = np.var(ta_sta2[rho,:,n])\n",
    "        ta_x3[rho,n] = np.mean(ta_sta3[rho,:,n]); ta_y3[rho,n] = np.var(ta_sta3[rho,:,n])\n",
    "              "
   ]
  },
  {
   "cell_type": "markdown",
   "metadata": {},
   "source": [
    "## mean and variance of gradient metrics on hard tanh dropout netoworks (simulation)"
   ]
  },
  {
   "cell_type": "code",
   "execution_count": 6,
   "metadata": {},
   "outputs": [],
   "source": [
    "# hard tanh\n",
    "loop = 100; numb = 21; nrho = 5\n",
    "\n",
    "ht_sta1 = np.zeros((nrho,loop,numb)); ht_sta2 = np.zeros((nrho,loop,numb)); ht_sta3 = np.zeros((nrho,loop,numb))\n",
    "\n",
    "for rho in range(6,11):\n",
    "    with open('../data/univer/htanh_n5_r%saa_st.csv' %str(rho), newline='') as csvfile:\n",
    "            spamreader = csv.reader(csvfile, delimiter=' '); j = 0\n",
    "            for row in spamreader:\n",
    "                a,b = divmod(j,numb); ht_sta1[rho-6,a,b] = row[0]; j = j + 1 \n",
    "        \n",
    "    with open('../data/univer/htanh_n5_r%sab_st.csv' %str(rho), newline='') as csvfile:\n",
    "            spamreader = csv.reader(csvfile, delimiter=' '); j = 0\n",
    "            for row in spamreader:\n",
    "                a,b = divmod(j,numb); ht_sta2[rho-6,a,b] = row[0]; j = j + 1\n",
    "            \n",
    "    with open('../data/univer/htanh_n5_r%sabs_st.csv' %str(rho), newline='') as csvfile:\n",
    "            spamreader = csv.reader(csvfile, delimiter=' '); j = 0\n",
    "            for row in spamreader:\n",
    "                a,b = divmod(j,numb); ht_sta3[rho-6,a,b] = row[0]; j = j + 1      \n",
    "                                        \n",
    "ht_x1 = np.zeros((nrho,numb)); ht_y1 = np.zeros((nrho,numb))\n",
    "ht_x2 = np.zeros((nrho,numb)); ht_y2 = np.zeros((nrho,numb))\n",
    "ht_x3 = np.zeros((nrho,numb)); ht_y3 = np.zeros((nrho,numb))\n",
    "\n",
    "\n",
    "for rho in range(nrho):\n",
    "    for n in range(numb):\n",
    "        ht_x1[rho,n] = np.mean(ht_sta1[rho,:,n]); ht_y1[rho,n] = np.var(ht_sta1[rho,:,n])\n",
    "        ht_x2[rho,n] = np.mean(ht_sta2[rho,:,n]); ht_y2[rho,n] = np.var(ht_sta2[rho,:,n])\n",
    "        ht_x3[rho,n] = np.mean(ht_sta3[rho,:,n]); ht_y3[rho,n] = np.var(ht_sta3[rho,:,n])\n"
   ]
  },
  {
   "cell_type": "markdown",
   "metadata": {},
   "source": [
    "# Figure 4:  Universal relationship between variance and mean\n",
    "Universal relationship between variance and mean of $g^l_{aa}$, $g^l_{ab}$, and $\\tilde{g}^l_{ab}$, on the 200 layers and width $N=500$ random dropout networks. Different color represents a different dropout rate. The black line is the function of $V \\propto m^2$. (a) $V^l_{aa}$ as a function $m^l_{aa}$. (b) $V^l_{ab}$ as a function of $m^l_{ab}$. (c) $\\tilde{V}^l_{ab}$ as a function of $\\tilde{m}^l_{ab}$. All the curves regarding different activations collapse to a line, and the power coefficient of all curves is consistent with 2."
   ]
  },
  {
   "cell_type": "code",
   "execution_count": 9,
   "metadata": {},
   "outputs": [
    {
     "data": {
      "image/png": "[encoded data removed]",
      "text/plain": [
       "<Figure size 1116x230.4 with 3 Axes>"
      ]
     },
     "metadata": {
      "needs_background": "light"
     },
     "output_type": "display_data"
    }
   ],
   "source": [
    "plt.figure(figsize=(15.5, 3.2))\n",
    "gs = plt.GridSpec(1, 4)\n",
    "matplotlib.rc('xtick', labelsize=14) \n",
    "matplotlib.rc('ytick', labelsize=14)\n",
    "\n",
    "a1 = plt.subplot(gs[0, 0])\n",
    "\n",
    "plt.loglog(np.abs(x1[0]),y1[0],color=[0,0,1],lw=1.0,label=r'$\\rho = 0.6$')\n",
    "plt.loglog(np.abs(x1[1]),y1[1],color=[0,0,0.5],lw=1.0,label=r'$\\rho = 0.7$')\n",
    "plt.loglog(np.abs(x1[2]),y1[2],color=[0,0.5,0.5],lw=1.0,label=r'$\\rho = 0.8$')\n",
    "plt.loglog(np.abs(x1[3]),y1[3],color=[0,0.5,0],lw=1.0,label=r'$\\rho = 0.9$')\n",
    "plt.loglog(np.abs(x1[4]),y1[4],color=[0,1,0],lw=1.0,label=r'$\\rho = 1.0$')\n",
    "\n",
    "plt.loglog(np.abs(re_x1[0]),re_y1[0],color=[0,0,1],lw=1.0)\n",
    "plt.loglog(np.abs(re_x1[1]),re_y1[1],color=[0,0,0.5],lw=1.0)\n",
    "plt.loglog(np.abs(re_x1[2]),re_y1[2],color=[0,0.5,0.5],lw=1.0)\n",
    "plt.loglog(np.abs(re_x1[3]),re_y1[3],color=[0,0.5,0],lw=1.0)\n",
    "plt.loglog(np.abs(re_x1[4]),re_y1[4],color=[0,1,0],lw=1.0)\n",
    "\n",
    "plt.loglog(np.abs(ta_x1[0][:20]),ta_y1[0][:20],color=[0,0,1],lw=1.0)\n",
    "#plt.loglog(np.abs(ta_x1[1][:20]),ta_y1[1][:20],color=[0,0,0.5],lw=1.0)\n",
    "plt.loglog(np.abs(ta_x1[2]),ta_y1[2],color=[0,0.5,0.5],lw=1.0)\n",
    "plt.loglog(np.abs(ta_x1[3]),ta_y1[3],color=[0,0.5,0],lw=1.0)\n",
    "plt.loglog(np.abs(ta_x1[4]),ta_y1[4],color=[0,1,0],lw=1.0)\n",
    "\n",
    "plt.loglog(np.abs(ht_x1[0][:20]),ht_y1[0][:20],color=[0,0,1],lw=1.0)\n",
    "plt.loglog(np.abs(ht_x1[1][:20]),ht_y1[1][:20],color=[0,0,0.5],lw=1.0)\n",
    "plt.loglog(np.abs(ht_x1[2][:20]),ht_y1[2][:20],color=[0,0.5,0.5],lw=1.0)\n",
    "plt.loglog(np.abs(ht_x1[3][:20]),ht_y1[3][:20],color=[0,0.5,0],lw=1.0)\n",
    "plt.loglog(np.abs(ht_x1[4][:20]),ht_y1[4][:20],color=[0,1,0],lw=1.0)\n",
    "\n",
    "plt.loglog(x4,y4,color=[0,0,0],lw=1.5,label=r'$ V \\propto m^2 $')\n",
    "\n",
    "plt.xlabel('$m_{aa}$', fontsize=15); plt.ylabel('$V_{aa}$', fontsize=15)\n",
    "plt.yticks([1e-94,1e-57, 1e-20, 1e17, 1e54]); plt.xticks([1e-46,1e-28, 1e-10, 1e8, 1e26]);\n",
    "plt.ylim(1e-94, 1e54); plt.xlim(1e-46, 1e26);\n",
    "plt.annotate('(a)', xy=(1e-46, 1e50), xytext=(1e-44, 1e40), fontsize=18)\n",
    "plt.legend(loc=(0.55,0.03),fontsize=13)\n",
    "plt.grid(False)\n",
    "\n",
    "a2 = plt.subplot(gs[0, 1])\n",
    "\n",
    "plt.loglog(np.abs(x2[0]),y2[0],color=[0,0,1],lw=1.0,label=r'$\\rho = 0.6$')\n",
    "plt.loglog(np.abs(x2[1]),y2[1],color=[0,0,0.5],lw=1.0,label=r'$\\rho = 0.7$')\n",
    "plt.loglog(np.abs(x2[2]),y2[2],color=[0,0.5,0.5],lw=1.0,label=r'$\\rho = 0.8$')\n",
    "plt.loglog(np.abs(x2[3]),y2[3],color=[0,0.5,0],lw=1.0,label=r'$\\rho = 0.9$')\n",
    "#plt.loglog(np.abs(x2[4]),y2[4],color=[0,1,0],lw=1.0,label=r'$\\rho = 1.0$')\n",
    "\n",
    "plt.loglog(np.abs(re_x2[0]),re_y2[0],color=[0,0,1],lw=1.0)\n",
    "plt.loglog(np.abs(re_x2[1]),re_y2[1],color=[0,0,0.5],lw=1.0)\n",
    "plt.loglog(np.abs(re_x2[2]),re_y2[2],color=[0,0.5,0.5],lw=1.0)\n",
    "plt.loglog(np.abs(re_x2[3]),re_y2[3],color=[0,0.5,0],lw=1.0)\n",
    "plt.loglog(np.abs(re_x2[4]),re_y2[4],color=[0,1,0],lw=1.0)\n",
    "\n",
    "plt.loglog(np.abs(ta_x2[0]),ta_y2[0],color=[0,0,1],lw=1.0,label=r'$\\rho = 0.6$')\n",
    "#plt.loglog(np.abs(ta_x2[1]),ta_y2[1],color=[0,0,0.5],lw=1.0,label=r'$\\rho = 0.7$')\n",
    "plt.loglog(np.abs(ta_x2[2]),ta_y2[2],color=[0,0.5,0.5],lw=1.0,label=r'$\\rho = 0.8$')\n",
    "plt.loglog(np.abs(ta_x2[3]),ta_y2[3],color=[0,0.5,0],lw=1.0,label=r'$\\rho = 0.9$')\n",
    "plt.loglog(np.abs(ta_x2[4]),ta_y2[4],color=[0,1,0],lw=1.0,label=r'$\\rho = 1.0$')\n",
    "\n",
    "plt.loglog(np.abs(ht_x2[0]),ht_y2[0],color=[0,0,1],lw=1.0,label=r'$\\rho = 0.6$')\n",
    "plt.loglog(np.abs(ht_x2[1]),ht_y2[1],color=[0,0,0.5],lw=1.0,label=r'$\\rho = 0.7$')\n",
    "plt.loglog(np.abs(ht_x2[2]),ht_y2[2],color=[0,0.5,0.5],lw=1.0,label=r'$\\rho = 0.8$')\n",
    "plt.loglog(np.abs(ht_x2[3]),ht_y2[3],color=[0,0.5,0],lw=1.0,label=r'$\\rho = 0.9$')\n",
    "plt.loglog(np.abs(ht_x2[4]),ht_y2[4],color=[0,1,0],lw=1.0,label=r'$\\rho = 1.0$')\n",
    "\n",
    "plt.loglog(x4,y4,color=[0,0,0],lw=1.5,label=r'$ V \\propto m^2 $')\n",
    "\n",
    "plt.xlabel('$m_{ab}$', fontsize=15); plt.ylabel('$V_{ab}$', fontsize=15)\n",
    "plt.yticks([]); plt.xticks([1e-46,1e-28, 1e-10, 1e8, 1e26]);\n",
    "plt.ylim(1e-94, 1e54); plt.xlim(1e-46, 1e26);\n",
    "plt.annotate('(b)', xy=(1e-46, 1e50), xytext=(1e-44, 1e40), fontsize=18)\n",
    "plt.grid(False)\n",
    "\n",
    "\n",
    "a3 = plt.subplot(gs[0, 2])\n",
    "\n",
    "plt.loglog(np.abs(x3[0]),y3[0],color=[0,0,1],lw=1.0,label=r'$\\rho = 0.6$')\n",
    "plt.loglog(np.abs(x3[1]),y3[1],color=[0,0,0.5],lw=1.0,label=r'$\\rho = 0.7$')\n",
    "plt.loglog(np.abs(x3[2]),y3[2],color=[0,0.5,0.5],lw=1.0,label=r'$\\rho = 0.8$')\n",
    "plt.loglog(np.abs(x3[3]),y3[3],color=[0,0.5,0],lw=1.0,label=r'$\\rho = 0.9$')\n",
    "plt.loglog(np.abs(x3[4]),y3[4],color=[0,1,0],lw=1.0,label=r'$\\rho = 1.0$')\n",
    "\n",
    "plt.loglog(np.abs(re_x3[0]),re_y3[0],color=[0,0,1],lw=1.0)\n",
    "plt.loglog(np.abs(re_x3[1]),re_y3[1],color=[0,0,0.5],lw=1.0)\n",
    "plt.loglog(np.abs(re_x3[2]),re_y3[2],color=[0,0.5,0.5],lw=1.0)\n",
    "plt.loglog(np.abs(re_x3[3]),re_y3[3],color=[0,0.5,0],lw=1.0)\n",
    "plt.loglog(np.abs(re_x3[4]),re_y3[4],color=[0,1,0],lw=1.0)\n",
    "\n",
    "plt.loglog(np.abs(ta_x3[0][:20]),ta_y3[0][:20],color=[0,0,1],lw=1.0)\n",
    "#plt.loglog(np.abs(ta_x1[1][:20]),ta_y1[1][:20],color=[0,0,0.5],lw=1.0)\n",
    "plt.loglog(np.abs(ta_x3[2]),ta_y3[2],color=[0,0.5,0.5],lw=1.0)\n",
    "plt.loglog(np.abs(ta_x3[3]),ta_y3[3],color=[0,0.5,0],lw=1.0)\n",
    "plt.loglog(np.abs(ta_x3[4]),ta_y3[4],color=[0,1,0],lw=1.0)\n",
    "\n",
    "plt.loglog(np.abs(ht_x3[0][:20]),ht_y3[0][:20],color=[0,0,1],lw=1.0)\n",
    "plt.loglog(np.abs(ht_x3[1][:20]),ht_y3[1][:20],color=[0,0,0.5],lw=1.0)\n",
    "plt.loglog(np.abs(ht_x3[2][:20]),ht_y3[2][:20],color=[0,0.5,0.5],lw=1.0)\n",
    "plt.loglog(np.abs(ht_x3[3][:20]),ht_y3[3][:20],color=[0,0.5,0],lw=1.0)\n",
    "plt.loglog(np.abs(ht_x3[4][:20]),ht_y3[4][:20],color=[0,1,0],lw=1.0)\n",
    "\n",
    "plt.loglog(x4,y4,color=[0,0,0],lw=1.5,label=r'$ V \\propto m^2 $')\n",
    "\n",
    "\n",
    "plt.xlabel(r'$\\tilde{m}_{ab}$', fontsize=15); plt.ylabel(r'$\\tilde{V}_{ab}$', fontsize=15)\n",
    "plt.yticks([]); plt.xticks([1e-46,1e-28, 1e-10, 1e8, 1e26]);\n",
    "plt.ylim(1e-94, 1e54); plt.xlim(1e-46, 1e26);\n",
    "plt.annotate('(c)', xy=(1e-46, 1e50), xytext=(1e-44, 1e40), fontsize=18)\n",
    "plt.grid(False)\n",
    "\n",
    "#plt.savefig(os.path.join(figure_dir, \"fig5_allvm.pdf\" ), bbox_inches='tight')\n"
   ]
  },
  {
   "cell_type": "markdown",
   "metadata": {},
   "source": [
    "## mean and variance of gradient metrics on tanh dropout netoworks with different network width (simulation)"
   ]
  },
  {
   "cell_type": "code",
   "execution_count": 11,
   "metadata": {},
   "outputs": [],
   "source": [
    "# tanh\n",
    "loop = 100; numb = 21; nwi = 5\n",
    "\n",
    "ta_sta1_wi = np.zeros((nwi,loop,numb)); ta_sta2_wi = np.zeros((nwi,loop,numb)); ta_sta3_wi = np.zeros((nwi,loop,numb))\n",
    "\n",
    "for width in range(0,5):\n",
    "    wiN = width*2+1\n",
    "    with open('../data/univer/tanh_n%s_r9aa_st.csv' %str(wiN), newline='') as csvfile:\n",
    "            spamreader = csv.reader(csvfile, delimiter=' '); j = 0\n",
    "            for row in spamreader:\n",
    "                a,b = divmod(j,numb); ta_sta1_wi[width,a,b] = row[0]; j = j + 1 \n",
    "        \n",
    "    with open('../data/univer/tanh_n%s_r9ab_st.csv' %str(wiN), newline='') as csvfile:\n",
    "            spamreader = csv.reader(csvfile, delimiter=' '); j = 0\n",
    "            for row in spamreader:\n",
    "                a,b = divmod(j,numb); ta_sta2_wi[width,a,b] = row[0]; j = j + 1\n",
    "            \n",
    "    with open('../data/univer/tanh_n%s_r9abs_st.csv' %str(wiN), newline='') as csvfile:\n",
    "            spamreader = csv.reader(csvfile, delimiter=' '); j = 0\n",
    "            for row in spamreader:\n",
    "                a,b = divmod(j,numb); ta_sta3_wi[width,a,b] = row[0]; j = j + 1      \n",
    "                                        \n",
    "ta_x1_wi = np.zeros((nwi,numb)); ta_y1_wi = np.zeros((nwi,numb))\n",
    "ta_x2_wi = np.zeros((nwi,numb)); ta_y2_wi = np.zeros((nwi,numb))\n",
    "ta_x3_wi = np.zeros((nwi,numb)); ta_y3_wi = np.zeros((nwi,numb))\n",
    "\n",
    "for nw in range(nwi):\n",
    "    for n in range(numb):\n",
    "        ta_x1_wi[nw,n] = np.mean(ta_sta1_wi[nw,:,n]); ta_y1_wi[nw,n] = np.var(ta_sta1_wi[nw,:,n])\n",
    "        ta_x2_wi[nw,n] = np.mean(ta_sta2_wi[nw,:,n]); ta_y2_wi[nw,n] = np.var(ta_sta2_wi[nw,:,n])\n",
    "        ta_x3_wi[nw,n] = np.mean(ta_sta3_wi[nw,:,n]); ta_y3_wi[nw,n] = np.var(ta_sta3_wi[nw,:,n])"
   ]
  },
  {
   "cell_type": "markdown",
   "metadata": {},
   "source": [
    "# Figure 5:  Universal relation with network width $N$\n",
    "Universal relationship between variance and mean of $g^l_{aa}$, $g^l_{ab}$, and $\\tilde{g}^l_{ab}$, on the 200 layers, Tanh random dropout networks with $\\rho = 0.9$. All the curves regarding different width collapse to a line. Different color represents a different network width. (a) $V^l_{aa}$ as a function $m^l_{aa}$. (b) $V^l_{ab}$ as a function of $m^l_{ab}$. (c) $\\tilde{V}^l_{ab}$ as a function of $\\tilde{m}^l_{ab}$."
   ]
  },
  {
   "cell_type": "code",
   "execution_count": 9,
   "metadata": {},
   "outputs": [
    {
     "data": {
      "image/png": "[encoded data removed]",
      "text/plain": [
       "<Figure size 1116x230.4 with 3 Axes>"
      ]
     },
     "metadata": {
      "needs_background": "light"
     },
     "output_type": "display_data"
    }
   ],
   "source": [
    "plt.figure(figsize=(15.5, 3.2))\n",
    "gs = plt.GridSpec(1, 4)\n",
    "matplotlib.rc('xtick', labelsize=14) \n",
    "matplotlib.rc('ytick', labelsize=14)\n",
    "\n",
    "a1 = plt.subplot(gs[0, 0])\n",
    "\n",
    "#plt.loglog(np.abs(ta_x1_wi[0]),ta_y1_wi[0],color=[0,0,1],lw=1.0,label=r'$N = 100$')\n",
    "plt.loglog(np.abs(ta_x1_wi[1]),ta_y1_wi[1],color=[0,0,0.5],lw=1.0,label=r'$N = 300$')\n",
    "plt.loglog(np.abs(ta_x1_wi[2]),ta_y1_wi[2],color=[0,0.5,0.5],lw=1.0,label=r'$N = 500$')\n",
    "plt.loglog(np.abs(ta_x1_wi[3]),ta_y1_wi[3],color=[0,0.5,0],lw=1.0,label=r'$N = 700$')\n",
    "plt.loglog(np.abs(ta_x1_wi[4]),ta_y1_wi[4],color=[0,1,0],lw=1.0,label=r'$N = 900$')\n",
    "\n",
    "\n",
    "plt.xlabel('$m_{aa}$', fontsize=15); plt.ylabel('$V_{aa}$', fontsize=15)\n",
    "plt.yticks([1e-30,1e-23, 1e-16, 1e-9, 1e-2]); plt.xticks([1e-15,1e-10, 1e-5, 1e0]);\n",
    "plt.ylim(1e-30, 1e-2); plt.xlim(1e-15, 1e0);\n",
    "plt.annotate('(a)', xy=(1e-15, 1e-2), xytext=(1e-14, 1e-5), fontsize=18)\n",
    "plt.legend(loc=(0.45,0.03),fontsize=13)\n",
    "plt.grid(False)\n",
    "\n",
    "a2 = plt.subplot(gs[0, 1])\n",
    "\n",
    "#plt.loglog(np.abs(ta_x2_wi[0]),ta_y2_wi[0],color=[0,0,1],lw=1.0,label=r'$N = 100$')\n",
    "plt.loglog(np.abs(ta_x2_wi[1]),ta_y2_wi[1],color=[0,0,0.5],lw=1.0,label=r'$N = 300$')\n",
    "plt.loglog(np.abs(ta_x2_wi[2]),ta_y2_wi[2],color=[0,0.5,0.5],lw=1.0,label=r'$N = 500$')\n",
    "plt.loglog(np.abs(ta_x2_wi[3]),ta_y2_wi[3],color=[0,0.5,0],lw=1.0,label=r'$N = 700$')\n",
    "plt.loglog(np.abs(ta_x2_wi[4]),ta_y2_wi[4],color=[0,1,0],lw=1.0,label=r'$N = 900$')\n",
    "\n",
    "plt.xlabel('$m_{ab}$', fontsize=15); plt.ylabel('$V_{ab}$', fontsize=15)\n",
    "plt.yticks([]); plt.xticks([1e-17,1e-12, 1e-7, 1e-2]);\n",
    "plt.ylim(1e-30, 1e-2); plt.xlim(1e-17, 1e-2);\n",
    "plt.annotate('(b)', xy=(1e-17, 1e-2), xytext=(1e-16, 1e-5), fontsize=18)\n",
    "plt.grid(False)\n",
    "\n",
    "a3 = plt.subplot(gs[0, 2])\n",
    "\n",
    "#plt.loglog(np.abs(ta_x3_wi[0]),ta_y3_wi[0],color=[0,0,1],lw=1.0,label=r'$N = 100$')\n",
    "plt.loglog(np.abs(ta_x3_wi[1]),ta_y3_wi[1],color=[0,0,0.5],lw=1.0,label=r'$N = 300$')\n",
    "plt.loglog(np.abs(ta_x3_wi[2]),ta_y3_wi[2],color=[0,0.5,0.5],lw=1.0,label=r'$N = 500$')\n",
    "plt.loglog(np.abs(ta_x3_wi[3]),ta_y3_wi[3],color=[0,0.5,0],lw=1.0,label=r'$N = 700$')\n",
    "plt.loglog(np.abs(ta_x3_wi[4]),ta_y3_wi[4],color=[0,1,0],lw=1.0,label=r'$N = 900$')\n",
    "\n",
    "plt.xlabel(r'$\\tilde{m}_{ab}$', fontsize=15); plt.ylabel(r'$\\tilde{V}_{aa}$', fontsize=15)\n",
    "plt.yticks([]); plt.xticks([1e-15,1e-10, 1e-5, 1e0]);\n",
    "plt.ylim(1e-30, 1e-2); plt.xlim(1e-15, 1e0);\n",
    "plt.annotate('(c)', xy=(1e-15, 1e-2), xytext=(1e-14, 1e-5), fontsize=18)\n",
    "plt.grid(False)\n",
    "\n",
    "plt.savefig(os.path.join(figure_dir, \"fig5_Nvm.pdf\" ), bbox_inches='tight')\n"
   ]
  },
  {
   "cell_type": "code",
   "execution_count": null,
   "metadata": {},
   "outputs": [],
   "source": []
  }
 ],
 "metadata": {
  "kernelspec": {
   "display_name": "Python 3",
   "language": "python",
   "name": "python3"
  },
  "language_info": {
   "codemirror_mode": {
    "name": "ipython",
    "version": 3
   },
   "file_extension": ".py",
   "mimetype": "text/x-python",
   "name": "python",
   "nbconvert_exporter": "python",
   "pygments_lexer": "ipython3",
   "version": "3.6.5"
  }
 },
 "nbformat": 4,
 "nbformat_minor": 1
}
