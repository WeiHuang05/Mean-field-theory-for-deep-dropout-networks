{
 "cells": [
  {
   "cell_type": "markdown",
   "metadata": {},
   "source": [
    "# Figures 7\n",
    "\n",
    "Generate figures matching theory and simulation for trainable length of deep dropout networks."
   ]
  },
  {
   "cell_type": "markdown",
   "metadata": {},
   "source": [
    "## Setup"
   ]
  },
  {
   "cell_type": "code",
   "execution_count": 18,
   "metadata": {},
   "outputs": [],
   "source": [
    "from __future__ import print_function\n",
    "import os, sys\n",
    "from tqdm import tqdm\n",
    "import matplotlib.pyplot as plt\n",
    "import seaborn as sns\n",
    "import numpy as np\n",
    "sns.set_style(\"whitegrid\")\n",
    "sns.set_context(\"paper\")\n",
    "plt.rcParams['pdf.fonttype'] = 42\n",
    "plt.rcParams['text.usetex'] = True\n",
    "plt.rcParams['text.latex.unicode'] = True\n",
    "plt.rcParams['image.cmap'] = 'viridis'\n",
    "\n",
    "\n",
    "sys.path.insert(0, '../')\n",
    "\n",
    "# Output figure directory\n",
    "figure_dir = \"../writeup/figures\"\n",
    "results_dir = \"../results\"\n",
    "if not os.path.exists(figure_dir):\n",
    "    raise ValueError(\"Figure directory does not exist. Create it or change figure_dir above.\")\n",
    "if not os.path.exists(results_dir):\n",
    "    raise ValueError(\"Results directory does not exist. Create it or change results_dir above.\")"
   ]
  },
  {
   "cell_type": "markdown",
   "metadata": {},
   "source": [
    "## compute $\\chi_1$ and $\\chi_2$ for dropout network with $\\rho=1$ (no dropout)"
   ]
  },
  {
   "cell_type": "code",
   "execution_count": 5,
   "metadata": {},
   "outputs": [
    {
     "name": "stderr",
     "output_type": "stream",
     "text": [
      "100%|██████████████████████████████████████████████████████████████████████████████████| 31/31 [00:01<00:00, 25.62it/s]\n",
      "100%|██████████████████████████████████████████████████████████████████████████████████| 31/31 [06:56<00:00,  7.98s/it]\n"
     ]
    }
   ],
   "source": [
    "from network.theory import q_fixed_point,compute_chi1,c_fixed_point,compute_chi2\n",
    "len_Sig = 31\n",
    "weight_sigmas2 = np.linspace(1.0, 4.0, len_Sig)\n",
    "qstars = np.zeros((len_Sig))\n",
    "cstars = np.zeros((len_Sig))\n",
    "chi1= np.zeros((len_Sig))\n",
    "chi2= np.zeros((len_Sig))\n",
    "for widx, weight_sigma2 in enumerate(tqdm(weight_sigmas2)):\n",
    "    t,qstars[widx]  =  q_fixed_point(weight_sigma2**0.5, 0.05**0.5, 'tanh', 1.0)\n",
    "    chi1[widx] = compute_chi1(qstars[widx], weight_sigma2**0.5, 0.05**0.5, 1.0, 'd_tanh')\n",
    "\n",
    "for widx, weight_sigma2 in enumerate(tqdm(weight_sigmas2)):\n",
    "    cstars[widx]  =  c_fixed_point(qstars[widx],weight_sigma2**0.5, 0.05**0.5, 'tanh', q12 = qstars[widx]*0.5)\n",
    "    chi2[widx] = compute_chi2(qstars[widx], cstars[widx], weight_sigma2**0.5, 0.05**0.5, 1.0, 'd_tanh')\n",
    "  "
   ]
  },
  {
   "cell_type": "markdown",
   "metadata": {},
   "source": [
    "## trainable length of deep dropout networks with $\\rho=1$ (no dropout) "
   ]
  },
  {
   "cell_type": "code",
   "execution_count": 14,
   "metadata": {},
   "outputs": [],
   "source": [
    "import csv\n",
    "import numpy as np\n",
    "\n",
    "len_Len = 25\n",
    "qstars = np.zeros((len_Sig))\n",
    "cstars = np.zeros((len_Sig))\n",
    "\n",
    "Length = np.linspace(10,  len_Len*10, len_Len )\n",
    "Length_cif = np.linspace(10,  len_Len*10, len_Len )\n",
    "Length_gau_s2_l1 = np.linspace(10,  len_Len*10, len_Len )\n",
    "Length_gau_s1_RMP = np.linspace(10,  len_Len*10, len_Len )\n",
    "\n",
    "\n",
    "heatmap = np.zeros((len_Len,len_Sig ))\n",
    "heatmap_cif = np.zeros((len_Len,len_Sig ))\n",
    "heatmap_gau_s2_l1 = np.zeros((len_Len,len_Sig ))\n",
    "heatmap_gau_s2_cif = np.zeros((len_Len,len_Sig ))\n",
    "heatmap_gau_s1_RMP = np.zeros((len_Len,len_Sig ))\n",
    "\n",
    "for i in range(len_Len ):\n",
    "    j = 0\n",
    "    with open('../data/heatmap/heatmap/tanh2_orth_L%s0.csv' %str(i+1) , newline='') as csvfile:\n",
    "            spamreader = csv.reader(csvfile, delimiter=' ')\n",
    "            for row in spamreader:\n",
    "                heatmap[i,j] = row[1]\n",
    "                j = j + 1\n",
    "                \n",
    "for i in range(len_Len):\n",
    "    j = 0\n",
    "    with open('../data/heatmap/heatmap_cifar/tanh2_orth_L%s0.csv' %str(i+1) , newline='') as csvfile:\n",
    "            spamreader = csv.reader(csvfile, delimiter=' ')\n",
    "            for row in spamreader:\n",
    "                j = j + 1  \n",
    "                if ( j % 3000 == 0):\n",
    "                    heatmap_cif[i,int(j/3000)-1] = row[1]\n",
    "                    \n",
    "                    \n",
    "for i in range(len_Len):\n",
    "    j = 0\n",
    "    with open('../data/heatmap/heatmap_s2_gau_ci/tanh2_orth_L%s0.csv' %str(i+1) , newline='') as csvfile:\n",
    "            spamreader = csv.reader(csvfile, delimiter=' ')\n",
    "            for row in spamreader:\n",
    "                j = j + 1  \n",
    "                if ( j % 2000 == 0):\n",
    "                    heatmap_gau_s2_cif[i,int(j/2000)-1] = row[1]                    \n",
    "                                      \n",
    "for i in range(len_Len ):\n",
    "    j = 0\n",
    "    with open('../data/heatmap/heatmap_s2_gau_l1/tanh2_gau_L%s0.csv' %str(i+1) , newline='') as csvfile:\n",
    "            spamreader = csv.reader(csvfile, delimiter=' ')\n",
    "            for row in spamreader:\n",
    "                heatmap_gau_s2_l1[i,j] = row[1]\n",
    "                j = j + 1              \n",
    "\n",
    "for i in range(len_Len ):\n",
    "    j = 0\n",
    "    with open('../data/heatmap/heatmap_s1_gau_RMP/tanh2_orth_L%s0.csv' %str(i+1) , newline='') as csvfile:\n",
    "            spamreader = csv.reader(csvfile, delimiter=' ')\n",
    "            for row in spamreader:\n",
    "                heatmap_gau_s1_RMP[i,j] = row[1]\n",
    "                j = j + 1                                           "
   ]
  },
  {
   "cell_type": "markdown",
   "metadata": {},
   "source": [
    "## compute $\\chi_1$ and $\\chi_2$ for dropout network with $\\rho=0.99$"
   ]
  },
  {
   "cell_type": "code",
   "execution_count": 9,
   "metadata": {},
   "outputs": [
    {
     "name": "stderr",
     "output_type": "stream",
     "text": [
      "100%|██████████████████████████████████████████████████████████████████████████████████| 31/31 [00:01<00:00, 26.28it/s]\n",
      "100%|██████████████████████████████████████████████████████████████████████████████████| 31/31 [05:00<00:00,  8.55s/it]\n"
     ]
    }
   ],
   "source": [
    "from network.theory import q_fixed_point,compute_chi1,c_fixed_point, compute_chi2\n",
    "qstars_r99 = np.zeros((len_Sig))\n",
    "cstars_r99 = np.zeros((len_Sig))\n",
    "chi1_r99   = np.zeros((len_Sig))\n",
    "chi2_r99   = np.zeros((len_Sig))\n",
    "\n",
    "for widx, weight_sigma2 in enumerate(tqdm(weight_sigmas2)):\n",
    "    t,qstars_r99[widx]  =  q_fixed_point(weight_sigma2**0.5, 0.05**0.5, 'tanh', 0.99)\n",
    "    chi1_r99[widx] = compute_chi1(qstars_r99[widx], weight_sigma2**0.5, 0.05**0.5, 0.99, 'd_tanh')\n",
    "\n",
    "for widx, weight_sigma2 in enumerate(tqdm(weight_sigmas2)):\n",
    "    cstars_r99[widx]  =  c_fixed_point(qstars_r99[widx],weight_sigma2**0.5, 0.05**0.5, 'tanh', q12 = qstars_r99[widx]*0.5)\n",
    "    chi2_r99[widx] = compute_chi2(qstars_r99[widx], cstars_r99[widx], weight_sigma2**0.5, 0.05**0.5, 0.99, 'd_tanh')"
   ]
  },
  {
   "cell_type": "markdown",
   "metadata": {},
   "source": [
    "## trainable length of deep dropout networks with $\\rho=0.99$ "
   ]
  },
  {
   "cell_type": "code",
   "execution_count": 15,
   "metadata": {},
   "outputs": [],
   "source": [
    "Length_r99 = np.linspace(10,  len_Len*10, len_Len )\n",
    "heatmap_r99_s3 = np.zeros((len_Len,len_Sig ))\n",
    "    \n",
    "\n",
    "for i in range(len_Len):\n",
    "    j = 0\n",
    "    with open('../data/heatmap/heatmap_r99_s3/tanh2_orth_r99_L%s0.csv' %str(i+1) , newline='') as csvfile:\n",
    "            spamreader = csv.reader(csvfile, delimiter=' ')\n",
    "            for row in spamreader:\n",
    "                heatmap_r99_s3[i,j] = row[1]\n",
    "                j = j + 1                             "
   ]
  },
  {
   "cell_type": "markdown",
   "metadata": {},
   "source": [
    "## compute $\\chi_1$ and $\\chi_2$ for dropout network with $\\rho=0.98$"
   ]
  },
  {
   "cell_type": "code",
   "execution_count": 12,
   "metadata": {},
   "outputs": [
    {
     "name": "stderr",
     "output_type": "stream",
     "text": [
      "100%|██████████████████████████████████████████████████████████████████████████████████| 31/31 [00:01<00:00, 28.22it/s]\n",
      "100%|██████████████████████████████████████████████████████████████████████████████████| 31/31 [04:39<00:00,  8.05s/it]\n"
     ]
    }
   ],
   "source": [
    "from network.theory import q_fixed_point,compute_chi1,c_fixed_point, compute_chi2\n",
    "qstars_r98 = np.zeros((len_Sig))\n",
    "cstars_r98 = np.zeros((len_Sig))\n",
    "chi1_r98   = np.zeros((len_Sig))\n",
    "chi2_r98   = np.zeros((len_Sig))\n",
    "\n",
    "for widx, weight_sigma2 in enumerate(tqdm(weight_sigmas2)):\n",
    "    t,qstars_r98[widx]  =  q_fixed_point(weight_sigma2**0.5, 0.05**0.5, 'tanh', 0.98)\n",
    "    chi1_r98[widx] = compute_chi1(qstars_r98[widx], weight_sigma2**0.5, 0.05**0.5, 0.98, 'd_tanh')\n",
    "\n",
    "for widx, weight_sigma2 in enumerate(tqdm(weight_sigmas2)):\n",
    "    cstars_r98[widx]  =  c_fixed_point(qstars_r98[widx],weight_sigma2**0.5, 0.05**0.5, 'tanh', q12 = qstars_r98[widx]*0.5)\n",
    "    chi2_r98[widx] = compute_chi2(qstars_r98[widx], cstars_r98[widx], weight_sigma2**0.5, 0.05**0.5, 0.98, 'd_tanh')"
   ]
  },
  {
   "cell_type": "markdown",
   "metadata": {},
   "source": [
    "## trainable length of deep dropout networks with $\\rho=0.98$ "
   ]
  },
  {
   "cell_type": "code",
   "execution_count": 16,
   "metadata": {},
   "outputs": [],
   "source": [
    "Length_r98 = np.linspace(10,  len_Len*10, len_Len)\n",
    "heatmap_r98_s3 = np.zeros((len_Len,len_Sig ))\n",
    "for i in range(len_Len):\n",
    "    j = 0\n",
    "    with open('../data/heatmap/heatmap_r98_s3_l2/tanh2_orth_r98_L%s0.csv' %str(i+1) , newline='') as csvfile:\n",
    "            spamreader = csv.reader(csvfile, delimiter=' ')\n",
    "            for row in spamreader:\n",
    "                heatmap_r98_s3[i,j] = row[1]\n",
    "                j = j + 1\n",
    "\n",
    "\n",
    "heatmap_r98_s10 = np.zeros((len_Len,len_Sig ))\n",
    "for i in range(len_Len):\n",
    "    j = 0\n",
    "    with open('../data/heatmap/heatmap_r98_s10_Gau/tanh2_orth_r98_L%s0.csv' %str(i+1) , newline='') as csvfile:\n",
    "            spamreader = csv.reader(csvfile, delimiter=' ')\n",
    "            for row in spamreader:\n",
    "                heatmap_r98_s10[i,j] = row[1]\n",
    "                j = j + 1\n"
   ]
  },
  {
   "cell_type": "markdown",
   "metadata": {},
   "source": [
    "## compute $\\chi_1$ and $\\chi_2$ for dropout network with $\\rho=0.95$"
   ]
  },
  {
   "cell_type": "code",
   "execution_count": 17,
   "metadata": {},
   "outputs": [
    {
     "name": "stderr",
     "output_type": "stream",
     "text": [
      "100%|██████████████████████████████████████████████████████████████████████████████████| 31/31 [00:01<00:00, 15.24it/s]\n",
      "100%|██████████████████████████████████████████████████████████████████████████████████| 31/31 [03:25<00:00,  6.54s/it]\n"
     ]
    }
   ],
   "source": [
    "from network.theory import q_fixed_point,compute_chi1,c_fixed_point, compute_chi2\n",
    "qstars_r95 = np.zeros((len_Sig))\n",
    "cstars_r95 = np.zeros((len_Sig))\n",
    "chi1_r95   = np.zeros((len_Sig))\n",
    "chi2_r95   = np.zeros((len_Sig))\n",
    "\n",
    "for widx, weight_sigma2 in enumerate(tqdm(weight_sigmas2)):\n",
    "    t,qstars_r95[widx]  =  q_fixed_point(weight_sigma2**0.5, 0.05**0.5, 'tanh', 0.95)\n",
    "    chi1_r95[widx] = compute_chi1(qstars_r95[widx], weight_sigma2**0.5, 0.05**0.5, 0.95, 'd_tanh')\n",
    "\n",
    "for widx, weight_sigma2 in enumerate(tqdm(weight_sigmas2)):\n",
    "    cstars_r95[widx]  =  c_fixed_point(qstars_r95[widx],weight_sigma2**0.5, 0.05**0.5, 'tanh', q12 = qstars_r95[widx]*0.5)\n",
    "    chi2_r95[widx] = compute_chi2(qstars_r95[widx], cstars_r95[widx], weight_sigma2**0.5, 0.05**0.5, 0.95, 'd_tanh')"
   ]
  },
  {
   "cell_type": "markdown",
   "metadata": {},
   "source": [
    "## trainable length of deep dropout networks with $\\rho=0.95$ "
   ]
  },
  {
   "cell_type": "code",
   "execution_count": 19,
   "metadata": {},
   "outputs": [],
   "source": [
    "heatmap_r95 = np.zeros((len_Len,len_Sig ))\n",
    "for i in range(len_Len):\n",
    "    j = 0\n",
    "    with open('../data/heatmap/heatmap_r95_RMP/tanh2_orth_L%s0.csv' %str(i+1) , newline='') as csvfile:\n",
    "            spamreader = csv.reader(csvfile, delimiter=' ')\n",
    "            for row in spamreader:\n",
    "                heatmap_r95[i,j] = row[1]\n",
    "                j = j + 1\n"
   ]
  },
  {
   "cell_type": "markdown",
   "metadata": {},
   "source": [
    "# Figure 7:  The training accuracy for neural networks as a function of the depth $L$ and initial weight variance $\\sigma^2_w$ from a high accuracy (bright yellow) to low accuracy (black)\n",
    "Comparison is made by plotting $12\\xi_1$ (white solid line), $6\\xi_2$ (green dashed line), and $12\\xi_2$ (white dashed line). (a) 2000 training steps of $\\rho=1$ network with Gaussian weights on the MNIST using SGD. (b) 1000 training steps of $\\rho=1$ network with Gaussian weights on the MNIST using RMSProp. (c) 2000 training steps of $\\rho=1$ network with Orthogonal weights on the MNIST. (d) 3000 training steps of $\\rho=1$ network with Orthogonal weights on CIFAR10. (e) 3000 training steps of $\\rho=0.99$ network with Orthogonal weights on the MNIST.  (f) 3000 training steps of $\\rho=0.98$ network with Orthogonal weights on the MNIST using SGD. (g) 10000 training steps of $\\rho=0.98$ network with Gaussian weights on the MNIST. (h) 3000 training steps of $\\rho=0.95$ network with Orthogonal weights on the MNIST using SGD."
   ]
  },
  {
   "cell_type": "code",
   "execution_count": 20,
   "metadata": {},
   "outputs": [
    {
     "ename": "NameError",
     "evalue": "name 'sigma_pcolor' is not defined",
     "output_type": "error",
     "traceback": [
      "\u001b[1;31m---------------------------------------------------------------------------\u001b[0m",
      "\u001b[1;31mNameError\u001b[0m                                 Traceback (most recent call last)",
      "\u001b[1;32m<ipython-input-20-b21b926d7b2d>\u001b[0m in \u001b[0;36m<module>\u001b[1;34m\u001b[0m\n\u001b[0;32m     10\u001b[0m \u001b[0mplt\u001b[0m\u001b[1;33m.\u001b[0m\u001b[0mplot\u001b[0m\u001b[1;33m(\u001b[0m\u001b[0mweight_sigmas2\u001b[0m\u001b[1;33m,\u001b[0m \u001b[1;36m12.0\u001b[0m\u001b[1;33m/\u001b[0m\u001b[0mnp\u001b[0m\u001b[1;33m.\u001b[0m\u001b[0mabs\u001b[0m\u001b[1;33m(\u001b[0m\u001b[0mnp\u001b[0m\u001b[1;33m.\u001b[0m\u001b[0mlog\u001b[0m\u001b[1;33m(\u001b[0m\u001b[0mchi1\u001b[0m\u001b[1;33m)\u001b[0m\u001b[1;33m)\u001b[0m\u001b[1;33m,\u001b[0m\u001b[1;34m'white'\u001b[0m\u001b[1;33m,\u001b[0m\u001b[0mls\u001b[0m\u001b[1;33m=\u001b[0m\u001b[1;34m'-'\u001b[0m\u001b[1;33m,\u001b[0m\u001b[0mlabel\u001b[0m\u001b[1;33m=\u001b[0m\u001b[1;34mr'$12 \\xi_1$'\u001b[0m\u001b[1;33m)\u001b[0m\u001b[1;33m\u001b[0m\u001b[0m\n\u001b[0;32m     11\u001b[0m \u001b[0mplt\u001b[0m\u001b[1;33m.\u001b[0m\u001b[0mylim\u001b[0m\u001b[1;33m(\u001b[0m\u001b[1;36m10\u001b[0m\u001b[1;33m,\u001b[0m \u001b[1;36m250\u001b[0m\u001b[1;33m)\u001b[0m\u001b[1;33m;\u001b[0m \u001b[0mplt\u001b[0m\u001b[1;33m.\u001b[0m\u001b[0mylabel\u001b[0m\u001b[1;33m(\u001b[0m\u001b[1;34m'$L$'\u001b[0m\u001b[1;33m,\u001b[0m \u001b[0mfontsize\u001b[0m\u001b[1;33m=\u001b[0m\u001b[1;36m16\u001b[0m\u001b[1;33m)\u001b[0m\u001b[1;33m\u001b[0m\u001b[0m\n\u001b[1;32m---> 12\u001b[1;33m \u001b[0msigma_pcolor\u001b[0m\u001b[1;33m(\u001b[0m\u001b[0mheatmap_gau_s2_l1\u001b[0m\u001b[1;33m,\u001b[0m \u001b[0mLength_gau_s2_l1\u001b[0m\u001b[1;33m,\u001b[0m\u001b[0mweight_sigmas2\u001b[0m\u001b[1;33m)\u001b[0m\u001b[1;33m\u001b[0m\u001b[0m\n\u001b[0m\u001b[0;32m     13\u001b[0m \u001b[0mplt\u001b[0m\u001b[1;33m.\u001b[0m\u001b[0mannotate\u001b[0m\u001b[1;33m(\u001b[0m\u001b[1;34m'(a)'\u001b[0m\u001b[1;33m,\u001b[0m \u001b[0mxy\u001b[0m\u001b[1;33m=\u001b[0m\u001b[1;33m(\u001b[0m\u001b[1;36m3.3\u001b[0m\u001b[1;33m,\u001b[0m \u001b[1;36m200\u001b[0m\u001b[1;33m)\u001b[0m\u001b[1;33m,\u001b[0m \u001b[0mxytext\u001b[0m\u001b[1;33m=\u001b[0m\u001b[1;33m(\u001b[0m\u001b[1;36m3.5\u001b[0m\u001b[1;33m,\u001b[0m \u001b[1;36m225\u001b[0m\u001b[1;33m)\u001b[0m\u001b[1;33m,\u001b[0m\u001b[0mcolor\u001b[0m\u001b[1;33m=\u001b[0m\u001b[1;34m'white'\u001b[0m\u001b[1;33m,\u001b[0m\u001b[0mfontsize\u001b[0m\u001b[1;33m=\u001b[0m\u001b[1;36m15\u001b[0m\u001b[1;33m)\u001b[0m\u001b[1;33m\u001b[0m\u001b[0m\n\u001b[0;32m     14\u001b[0m \u001b[0ml\u001b[0m \u001b[1;33m=\u001b[0m \u001b[0mplt\u001b[0m\u001b[1;33m.\u001b[0m\u001b[0mlegend\u001b[0m\u001b[1;33m(\u001b[0m\u001b[0mloc\u001b[0m\u001b[1;33m=\u001b[0m\u001b[1;33m(\u001b[0m\u001b[1;36m0.5\u001b[0m\u001b[1;33m,\u001b[0m\u001b[1;36m0.5\u001b[0m\u001b[1;33m)\u001b[0m\u001b[1;33m,\u001b[0m\u001b[0mfontsize\u001b[0m\u001b[1;33m=\u001b[0m\u001b[1;36m15\u001b[0m\u001b[1;33m)\u001b[0m\u001b[1;33m\u001b[0m\u001b[0m\n",
      "\u001b[1;31mNameError\u001b[0m: name 'sigma_pcolor' is not defined"
     ]
    },
    {
     "data": {
      "image/png": "[encoded data removed]",
      "text/plain": [
       "<Figure size 1296x540 with 1 Axes>"
      ]
     },
     "metadata": {},
     "output_type": "display_data"
    }
   ],
   "source": [
    "plt.figure(figsize=(18, 7.5))\n",
    "gs = plt.GridSpec(2, 4)\n",
    "plt.matplotlib.rc('xtick', labelsize=13) \n",
    "plt.matplotlib.rc('ytick', labelsize=13)\n",
    "\n",
    "a1 = plt.subplot(gs[0, 0])\n",
    "\n",
    "plt.plot(weight_sigmas2, 6.0/np.abs(np.log(chi2)),'green',ls='--',label=r'$6 \\xi_2$')\n",
    "plt.plot(weight_sigmas2, 12.0/np.abs(np.log(chi2)),'white',ls='--',label=r'$12 \\xi_2$')\n",
    "plt.plot(weight_sigmas2, 12.0/np.abs(np.log(chi1)),'white',ls='-',label=r'$12 \\xi_1$')\n",
    "plt.ylim(10, 250); plt.ylabel('$L$', fontsize=16)\n",
    "sigma_pcolor(heatmap_gau_s2_l1, Length_gau_s2_l1,weight_sigmas2)  \n",
    "plt.annotate('(a)', xy=(3.3, 200), xytext=(3.5, 225),color='white',fontsize=15)\n",
    "l = plt.legend(loc=(0.5,0.5),fontsize=15)\n",
    "for text in l.get_texts():\n",
    "    text.set_color(\"white\")\n",
    "\n",
    "\n",
    "a2 = plt.subplot(gs[0, 1])\n",
    "\n",
    "plt.plot(weight_sigmas2, 6.0/np.abs(np.log(chi2)),'green',ls='--',label=r'$6 \\xi_2$')   \n",
    "plt.plot(weight_sigmas2, 12.0/np.abs(np.log(chi2)),'white',ls='--',label=r'$12 \\xi_2$')\n",
    "plt.plot(weight_sigmas2, 12.0/np.abs(np.log(chi1)),'white',label=r'$12 \\xi_1$')\n",
    "plt.ylim(10, 250)\n",
    "sigma_pcolor(heatmap_gau_s1_RMP,Length_gau_s1_RMP,weight_sigmas2)  \n",
    "plt.annotate('(b)', xy=(3.3, 200), xytext=(3.5, 225),color='white',fontsize=15)\n",
    "l = plt.legend(loc=(0.5,0.5),fontsize=15)\n",
    "for text in l.get_texts():\n",
    "    text.set_color(\"white\")\n",
    "\n",
    "\n",
    "a3 = plt.subplot(gs[0, 2])\n",
    "\n",
    "plt.plot(weight_sigmas2, 6.0/np.abs(np.log(chi2)),'green',ls='--',label=r'$6 \\xi_2$')\n",
    "plt.plot(weight_sigmas2, 12.0/np.abs(np.log(chi2)),'white',ls='--',label=r'$12 \\xi_2$')\n",
    "plt.plot(weight_sigmas2, 12.0/np.abs(np.log(chi1)),'white',label=r'$12 \\xi_1$')\n",
    "plt.ylim(10, 250); plt.xlim(1,4); \n",
    "sigma_pcolor(heatmap, Length,weight_sigmas2)   \n",
    "plt.annotate('(c)', xy=(3.3, 200), xytext=(3.5, 225),color='white',fontsize=15)\n",
    "l = plt.legend(loc=(0.5,0.5),fontsize=15)\n",
    "for text in l.get_texts():\n",
    "    text.set_color(\"white\")\n",
    "    \n",
    "\n",
    "a4 = plt.subplot(gs[0,3])\n",
    "plt.plot(weight_sigmas2, 6.0/np.abs(np.log(chi2)),'green',ls='--',label=r'$6 \\xi_2$')\n",
    "plt.plot(weight_sigmas2, 12.0/np.abs(np.log(chi2)),'white',ls='--',label=r'$12 \\xi_2$')\n",
    "plt.plot(weight_sigmas2, 12.0/np.abs(np.log(chi1)),'white',label=r'$12 \\xi_1$')\n",
    "plt.ylim(10, 250); \n",
    "sigma_pcolor(heatmap_cif, Length_cif,weight_sigmas2)  \n",
    "plt.annotate('(d)', xy=(3.3, 200), xytext=(3.5, 225),color='white',fontsize=15)\n",
    "l = plt.legend(loc=(0.5,0.5),fontsize=15)\n",
    "for text in l.get_texts():\n",
    "    text.set_color(\"white\")    \n",
    "    \n",
    "a5 = plt.subplot(gs[1, 0])\n",
    "plt.plot(weight_sigmas2, 6.0/np.abs(np.log(chi2_r99)),'green',ls='--',label=r'$6 \\xi_2$')\n",
    "plt.plot(weight_sigmas2, 12.0/np.abs(np.log(chi2_r99)),'white',ls='--',label=r'$12 \\xi_2$')\n",
    "plt.plot(weight_sigmas2, 12.0/np.abs(np.log(chi1_r99)),'white',label=r'$12 \\xi_1$')\n",
    "plt.ylim(10, 250); plt.xlim(1,4); plt.xlabel('$\\sigma^2_w$', fontsize=16); plt.ylabel('$L$', fontsize=16)\n",
    "sigma_pcolor(heatmap_r99_s3, Length_r99,weight_sigmas2)    \n",
    "plt.annotate('(e)', xy=(3.3, 200), xytext=(3.5, 225),color='white',fontsize=15)\n",
    "l = plt.legend(loc=(0.5,0.5),fontsize=15)\n",
    "for text in l.get_texts():\n",
    "    text.set_color(\"white\")\n",
    "plt.xlabel('$\\sigma^2_w$', fontsize=16); # ylabel('$L$', fontsize=16)\n",
    "\n",
    "\n",
    "a6 = plt.subplot(gs[1, 1])\n",
    "\n",
    "sigma_pcolor(heatmap_r98_s3, Length,weight_sigmas2)  \n",
    "plt.plot(weight_sigmas2, 6.0/np.abs(np.log(chi2_r98)),'green',ls='--',label=r'$6 \\xi_2$')\n",
    "plt.plot(weight_sigmas2, 12.0/np.abs(np.log(chi2_r98)),ls='--',label=r'$12 \\xi_2$',color='white')\n",
    "plt.plot(weight_sigmas2, 12.0/np.abs(np.log(chi1_r98)),label=r'$12 \\xi_1$',color='white')\n",
    "\n",
    "plt.ylim(10, 250); plt.xlabel('$\\sigma^2_w$', fontsize=16);\n",
    "plt.annotate('(f)', xy=(3.3, 200), xytext=(3.5, 225),color='white',fontsize=15)\n",
    "l = plt.legend(loc=(0.5,0.5),fontsize=15)\n",
    "for text in l.get_texts():\n",
    "    text.set_color(\"white\")\n",
    "\n",
    "\n",
    "a7 = plt.subplot(gs[1, 2])\n",
    "sigma_pcolor(heatmap_r98_s10, Length_r98,weight_sigmas2)   \n",
    "plt.plot(weight_sigmas2, 6.0/np.abs(np.log(chi2_r98)),'green',ls='--',label=r'$6 \\xi_2$')\n",
    "plt.plot(weight_sigmas2, 12.0/np.abs(np.log(chi2_r98)),'white',ls='--',label=r'$12 \\xi_2$',color='white')\n",
    "plt.plot(weight_sigmas2, 12.0/np.abs(np.log(chi1_r98)),'white',label=r'$12 \\xi_1$',color='white')\n",
    "plt.ylim(10, 250); plt.xlabel('$\\sigma^2_w$', fontsize=16)\n",
    "plt.annotate('(g)', xy=(3.3, 200), xytext=(3.5, 225),color='white',fontsize=15)\n",
    "l = plt.legend(loc=(0.5,0.5),fontsize=15)\n",
    "plt.xlabel('$\\sigma^2_w$', fontsize=16);\n",
    "for text in l.get_texts():\n",
    "    text.set_color(\"white\")\n",
    "    \n",
    "a8 = plt.subplot(gs[1, 3])\n",
    "sigma_pcolor(heatmap_r95, Length,weight_sigmas2)    \n",
    "plt.plot(weight_sigmas2, 6.0/np.abs(np.log(chi2_r95)),'green',ls='--',label=r'$6 \\xi_2$')\n",
    "plt.plot(weight_sigmas2, 12.0/np.abs(np.log(chi2_r95)),'white',ls='--',label=r'$12 \\xi_2$',color='white')\n",
    "plt.plot(weight_sigmas2, 12.0/np.abs(np.log(chi1_r95)),'white',label=r'$12 \\xi_1$',color='white')\n",
    "plt.ylim(10, 250); plt.xlabel('$\\sigma^2_w$', fontsize=16);\n",
    "plt.annotate('(h)', xy=(3.3, 200), xytext=(3.5, 225),color='white',fontsize=15)\n",
    "l = plt.legend(loc=(0.5,0.5),fontsize=15)\n",
    "for text in l.get_texts():\n",
    "    text.set_color(\"white\")    \n",
    "    \n",
    "\n",
    "#plt.savefig(os.path.join(figure_dir, \"fig6_heatmap.pdf\" ), bbox_inches='tight')"
   ]
  },
  {
   "cell_type": "code",
   "execution_count": null,
   "metadata": {},
   "outputs": [],
   "source": []
  }
 ],
 "metadata": {
  "kernelspec": {
   "display_name": "Python 3",
   "language": "python",
   "name": "python3"
  },
  "language_info": {
   "codemirror_mode": {
    "name": "ipython",
    "version": 3
   },
   "file_extension": ".py",
   "mimetype": "text/x-python",
   "name": "python",
   "nbconvert_exporter": "python",
   "pygments_lexer": "ipython3",
   "version": "3.6.5"
  }
 },
 "nbformat": 4,
 "nbformat_minor": 1
}
